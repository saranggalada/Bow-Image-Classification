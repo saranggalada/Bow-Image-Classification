{
  "nbformat": 4,
  "nbformat_minor": 0,
  "metadata": {
    "colab": {
      "provenance": [],
      "collapsed_sections": [
        "AFEqK0pnDNXi",
        "T9Hxr6NRh5a0",
        "4gpoQyzhOqXw",
        "utrzJ44tSk9s"
      ],
      "gpuType": "T4"
    },
    "kernelspec": {
      "name": "python3",
      "display_name": "Python 3"
    },
    "language_info": {
      "name": "python"
    },
    "accelerator": "GPU"
  },
  "cells": [
    {
      "cell_type": "markdown",
      "source": [
        "# Bow Image Classification | ResNet50V2\n",
        "\n",
        "### *Course Project - Deep Learning*\n",
        "#### `Part 1B | Fine Tuning`\n",
        "\n",
        "**Author:** Sarang Galada<br>\n",
        "**School:** School of Computing & Data Science, Sai University<br>\n",
        "**Email ID:** sarang.g-25@scds.saiuniversity.edu.in<br>\n",
        "**Date created:** 08/12/2023<br><br>\n",
        "**Description:** Classification of Bow (weapon) images into 5 types using Transfer Learning and Fine Tuning\n",
        "\n",
        "*   *Problem*: `Image Classification`\n",
        "*   *Dataset*: `Bow Images`\n",
        "*   *Model*: `ResNet50V2`\n",
        "*   *Key library used*: `TensorFlow Keras`"
      ],
      "metadata": {
        "id": "f8lzEqGmDZyf"
      }
    },
    {
      "cell_type": "markdown",
      "source": [
        "## Downloading the model and datasets"
      ],
      "metadata": {
        "id": "Cm44j2LtiEw0"
      }
    },
    {
      "cell_type": "code",
      "execution_count": null,
      "metadata": {
        "colab": {
          "base_uri": "https://localhost:8080/"
        },
        "id": "nnBAc_jIC5sp",
        "outputId": "a30035df-4efd-4a32-811a-151c9fe11587"
      },
      "outputs": [
        {
          "output_type": "stream",
          "name": "stdout",
          "text": [
            "2.15.0\n"
          ]
        }
      ],
      "source": [
        "# Import required libraries\n",
        "\n",
        "import numpy as np\n",
        "np.random.seed(42)\n",
        "\n",
        "import pandas as pd\n",
        "\n",
        "import matplotlib.pyplot as plt\n",
        "%matplotlib inline\n",
        "\n",
        "import tensorflow as tf\n",
        "print(tf.__version__)\n",
        "\n",
        "from tensorflow import keras\n",
        "tf.random.set_seed(42)"
      ]
    },
    {
      "cell_type": "code",
      "source": [
        "# Mount the Google Drive\n",
        "\n",
        "from google.colab import drive\n",
        "drive.mount('/content/gdrive')"
      ],
      "metadata": {
        "colab": {
          "base_uri": "https://localhost:8080/"
        },
        "id": "Rs9nH5I651J6",
        "outputId": "7fcf08fc-160b-4601-db34-588a69cb6a9a"
      },
      "execution_count": null,
      "outputs": [
        {
          "output_type": "stream",
          "name": "stdout",
          "text": [
            "Drive already mounted at /content/gdrive; to attempt to forcibly remount, call drive.mount(\"/content/gdrive\", force_remount=True).\n"
          ]
        }
      ]
    },
    {
      "cell_type": "code",
      "source": [
        "# Since the model and datasets are already prepared, load them directly from Drive\n",
        "\n",
        "X_train = np.load('/content/gdrive/MyDrive/Models/BowImageClassification/X_train.npy')\n",
        "X_test = np.load('/content/gdrive/MyDrive/Models/BowImageClassification/X_test.npy')\n",
        "y_train = np.load('/content/gdrive/MyDrive/Models/BowImageClassification/y_train.npy')\n",
        "y_test = np.load('/content/gdrive/MyDrive/Models/BowImageClassification/y_test.npy')\n",
        "\n",
        "print(f\"No. of training samples: {X_train.shape[0]}\")\n",
        "print(f\"No. of testing samples: {X_test.shape[0]}\")"
      ],
      "metadata": {
        "colab": {
          "base_uri": "https://localhost:8080/"
        },
        "id": "BFE5QALr9PgX",
        "outputId": "310c96dc-2072-4581-c719-0d871eef5d13"
      },
      "execution_count": null,
      "outputs": [
        {
          "output_type": "stream",
          "name": "stdout",
          "text": [
            "No. of training samples: 607\n",
            "No. of testing samples: 203\n"
          ]
        }
      ]
    },
    {
      "cell_type": "code",
      "source": [
        "labels = np.load('/content/gdrive/MyDrive/Models/BowImageClassification/labels.npy')\n",
        "print(labels)"
      ],
      "metadata": {
        "colab": {
          "base_uri": "https://localhost:8080/"
        },
        "id": "I_WjZyaQ-gg7",
        "outputId": "1ea0fdfd-a30d-49eb-e012-da371973c4ed"
      },
      "execution_count": null,
      "outputs": [
        {
          "output_type": "stream",
          "name": "stdout",
          "text": [
            "['Compound Bow' 'Crossbow' 'Kyudo Bow' 'Longbow' 'Traditional Recurve Bow']\n"
          ]
        }
      ]
    },
    {
      "cell_type": "code",
      "source": [
        "# Load the Transfer Learning model based on ResNet50V2\n",
        "\n",
        "model1_FT = keras.models.load_model('/content/gdrive/MyDrive/Models/BowImageClassification/ResNet50V2_TransferLearning_BestModel.h5')\n",
        "model1_FT.summary()"
      ],
      "metadata": {
        "colab": {
          "base_uri": "https://localhost:8080/"
        },
        "id": "Wuu-wr14662s",
        "outputId": "a5112a48-38b3-482b-b113-b8c86158d68a"
      },
      "execution_count": null,
      "outputs": [
        {
          "output_type": "stream",
          "name": "stdout",
          "text": [
            "Model: \"model\"\n",
            "__________________________________________________________________________________________________\n",
            " Layer (type)                Output Shape                 Param #   Connected to                  \n",
            "==================================================================================================\n",
            " input_2 (InputLayer)        [(None, None, None, 3)]      0         []                            \n",
            "                                                                                                  \n",
            " conv1_pad (ZeroPadding2D)   (None, None, None, 3)        0         ['input_2[0][0]']             \n",
            "                                                                                                  \n",
            " conv1_conv (Conv2D)         (None, None, None, 64)       9472      ['conv1_pad[0][0]']           \n",
            "                                                                                                  \n",
            " pool1_pad (ZeroPadding2D)   (None, None, None, 64)       0         ['conv1_conv[0][0]']          \n",
            "                                                                                                  \n",
            " pool1_pool (MaxPooling2D)   (None, None, None, 64)       0         ['pool1_pad[0][0]']           \n",
            "                                                                                                  \n",
            " conv2_block1_preact_bn (Ba  (None, None, None, 64)       256       ['pool1_pool[0][0]']          \n",
            " tchNormalization)                                                                                \n",
            "                                                                                                  \n",
            " conv2_block1_preact_relu (  (None, None, None, 64)       0         ['conv2_block1_preact_bn[0][0]\n",
            " Activation)                                                        ']                            \n",
            "                                                                                                  \n",
            " conv2_block1_1_conv (Conv2  (None, None, None, 64)       4096      ['conv2_block1_preact_relu[0][\n",
            " D)                                                                 0]']                          \n",
            "                                                                                                  \n",
            " conv2_block1_1_bn (BatchNo  (None, None, None, 64)       256       ['conv2_block1_1_conv[0][0]'] \n",
            " rmalization)                                                                                     \n",
            "                                                                                                  \n",
            " conv2_block1_1_relu (Activ  (None, None, None, 64)       0         ['conv2_block1_1_bn[0][0]']   \n",
            " ation)                                                                                           \n",
            "                                                                                                  \n",
            " conv2_block1_2_pad (ZeroPa  (None, None, None, 64)       0         ['conv2_block1_1_relu[0][0]'] \n",
            " dding2D)                                                                                         \n",
            "                                                                                                  \n",
            " conv2_block1_2_conv (Conv2  (None, None, None, 64)       36864     ['conv2_block1_2_pad[0][0]']  \n",
            " D)                                                                                               \n",
            "                                                                                                  \n",
            " conv2_block1_2_bn (BatchNo  (None, None, None, 64)       256       ['conv2_block1_2_conv[0][0]'] \n",
            " rmalization)                                                                                     \n",
            "                                                                                                  \n",
            " conv2_block1_2_relu (Activ  (None, None, None, 64)       0         ['conv2_block1_2_bn[0][0]']   \n",
            " ation)                                                                                           \n",
            "                                                                                                  \n",
            " conv2_block1_0_conv (Conv2  (None, None, None, 256)      16640     ['conv2_block1_preact_relu[0][\n",
            " D)                                                                 0]']                          \n",
            "                                                                                                  \n",
            " conv2_block1_3_conv (Conv2  (None, None, None, 256)      16640     ['conv2_block1_2_relu[0][0]'] \n",
            " D)                                                                                               \n",
            "                                                                                                  \n",
            " conv2_block1_out (Add)      (None, None, None, 256)      0         ['conv2_block1_0_conv[0][0]', \n",
            "                                                                     'conv2_block1_3_conv[0][0]'] \n",
            "                                                                                                  \n",
            " conv2_block2_preact_bn (Ba  (None, None, None, 256)      1024      ['conv2_block1_out[0][0]']    \n",
            " tchNormalization)                                                                                \n",
            "                                                                                                  \n",
            " conv2_block2_preact_relu (  (None, None, None, 256)      0         ['conv2_block2_preact_bn[0][0]\n",
            " Activation)                                                        ']                            \n",
            "                                                                                                  \n",
            " conv2_block2_1_conv (Conv2  (None, None, None, 64)       16384     ['conv2_block2_preact_relu[0][\n",
            " D)                                                                 0]']                          \n",
            "                                                                                                  \n",
            " conv2_block2_1_bn (BatchNo  (None, None, None, 64)       256       ['conv2_block2_1_conv[0][0]'] \n",
            " rmalization)                                                                                     \n",
            "                                                                                                  \n",
            " conv2_block2_1_relu (Activ  (None, None, None, 64)       0         ['conv2_block2_1_bn[0][0]']   \n",
            " ation)                                                                                           \n",
            "                                                                                                  \n",
            " conv2_block2_2_pad (ZeroPa  (None, None, None, 64)       0         ['conv2_block2_1_relu[0][0]'] \n",
            " dding2D)                                                                                         \n",
            "                                                                                                  \n",
            " conv2_block2_2_conv (Conv2  (None, None, None, 64)       36864     ['conv2_block2_2_pad[0][0]']  \n",
            " D)                                                                                               \n",
            "                                                                                                  \n",
            " conv2_block2_2_bn (BatchNo  (None, None, None, 64)       256       ['conv2_block2_2_conv[0][0]'] \n",
            " rmalization)                                                                                     \n",
            "                                                                                                  \n",
            " conv2_block2_2_relu (Activ  (None, None, None, 64)       0         ['conv2_block2_2_bn[0][0]']   \n",
            " ation)                                                                                           \n",
            "                                                                                                  \n",
            " conv2_block2_3_conv (Conv2  (None, None, None, 256)      16640     ['conv2_block2_2_relu[0][0]'] \n",
            " D)                                                                                               \n",
            "                                                                                                  \n",
            " conv2_block2_out (Add)      (None, None, None, 256)      0         ['conv2_block1_out[0][0]',    \n",
            "                                                                     'conv2_block2_3_conv[0][0]'] \n",
            "                                                                                                  \n",
            " conv2_block3_preact_bn (Ba  (None, None, None, 256)      1024      ['conv2_block2_out[0][0]']    \n",
            " tchNormalization)                                                                                \n",
            "                                                                                                  \n",
            " conv2_block3_preact_relu (  (None, None, None, 256)      0         ['conv2_block3_preact_bn[0][0]\n",
            " Activation)                                                        ']                            \n",
            "                                                                                                  \n",
            " conv2_block3_1_conv (Conv2  (None, None, None, 64)       16384     ['conv2_block3_preact_relu[0][\n",
            " D)                                                                 0]']                          \n",
            "                                                                                                  \n",
            " conv2_block3_1_bn (BatchNo  (None, None, None, 64)       256       ['conv2_block3_1_conv[0][0]'] \n",
            " rmalization)                                                                                     \n",
            "                                                                                                  \n",
            " conv2_block3_1_relu (Activ  (None, None, None, 64)       0         ['conv2_block3_1_bn[0][0]']   \n",
            " ation)                                                                                           \n",
            "                                                                                                  \n",
            " conv2_block3_2_pad (ZeroPa  (None, None, None, 64)       0         ['conv2_block3_1_relu[0][0]'] \n",
            " dding2D)                                                                                         \n",
            "                                                                                                  \n",
            " conv2_block3_2_conv (Conv2  (None, None, None, 64)       36864     ['conv2_block3_2_pad[0][0]']  \n",
            " D)                                                                                               \n",
            "                                                                                                  \n",
            " conv2_block3_2_bn (BatchNo  (None, None, None, 64)       256       ['conv2_block3_2_conv[0][0]'] \n",
            " rmalization)                                                                                     \n",
            "                                                                                                  \n",
            " conv2_block3_2_relu (Activ  (None, None, None, 64)       0         ['conv2_block3_2_bn[0][0]']   \n",
            " ation)                                                                                           \n",
            "                                                                                                  \n",
            " max_pooling2d_3 (MaxPoolin  (None, None, None, 256)      0         ['conv2_block2_out[0][0]']    \n",
            " g2D)                                                                                             \n",
            "                                                                                                  \n",
            " conv2_block3_3_conv (Conv2  (None, None, None, 256)      16640     ['conv2_block3_2_relu[0][0]'] \n",
            " D)                                                                                               \n",
            "                                                                                                  \n",
            " conv2_block3_out (Add)      (None, None, None, 256)      0         ['max_pooling2d_3[0][0]',     \n",
            "                                                                     'conv2_block3_3_conv[0][0]'] \n",
            "                                                                                                  \n",
            " conv3_block1_preact_bn (Ba  (None, None, None, 256)      1024      ['conv2_block3_out[0][0]']    \n",
            " tchNormalization)                                                                                \n",
            "                                                                                                  \n",
            " conv3_block1_preact_relu (  (None, None, None, 256)      0         ['conv3_block1_preact_bn[0][0]\n",
            " Activation)                                                        ']                            \n",
            "                                                                                                  \n",
            " conv3_block1_1_conv (Conv2  (None, None, None, 128)      32768     ['conv3_block1_preact_relu[0][\n",
            " D)                                                                 0]']                          \n",
            "                                                                                                  \n",
            " conv3_block1_1_bn (BatchNo  (None, None, None, 128)      512       ['conv3_block1_1_conv[0][0]'] \n",
            " rmalization)                                                                                     \n",
            "                                                                                                  \n",
            " conv3_block1_1_relu (Activ  (None, None, None, 128)      0         ['conv3_block1_1_bn[0][0]']   \n",
            " ation)                                                                                           \n",
            "                                                                                                  \n",
            " conv3_block1_2_pad (ZeroPa  (None, None, None, 128)      0         ['conv3_block1_1_relu[0][0]'] \n",
            " dding2D)                                                                                         \n",
            "                                                                                                  \n",
            " conv3_block1_2_conv (Conv2  (None, None, None, 128)      147456    ['conv3_block1_2_pad[0][0]']  \n",
            " D)                                                                                               \n",
            "                                                                                                  \n",
            " conv3_block1_2_bn (BatchNo  (None, None, None, 128)      512       ['conv3_block1_2_conv[0][0]'] \n",
            " rmalization)                                                                                     \n",
            "                                                                                                  \n",
            " conv3_block1_2_relu (Activ  (None, None, None, 128)      0         ['conv3_block1_2_bn[0][0]']   \n",
            " ation)                                                                                           \n",
            "                                                                                                  \n",
            " conv3_block1_0_conv (Conv2  (None, None, None, 512)      131584    ['conv3_block1_preact_relu[0][\n",
            " D)                                                                 0]']                          \n",
            "                                                                                                  \n",
            " conv3_block1_3_conv (Conv2  (None, None, None, 512)      66048     ['conv3_block1_2_relu[0][0]'] \n",
            " D)                                                                                               \n",
            "                                                                                                  \n",
            " conv3_block1_out (Add)      (None, None, None, 512)      0         ['conv3_block1_0_conv[0][0]', \n",
            "                                                                     'conv3_block1_3_conv[0][0]'] \n",
            "                                                                                                  \n",
            " conv3_block2_preact_bn (Ba  (None, None, None, 512)      2048      ['conv3_block1_out[0][0]']    \n",
            " tchNormalization)                                                                                \n",
            "                                                                                                  \n",
            " conv3_block2_preact_relu (  (None, None, None, 512)      0         ['conv3_block2_preact_bn[0][0]\n",
            " Activation)                                                        ']                            \n",
            "                                                                                                  \n",
            " conv3_block2_1_conv (Conv2  (None, None, None, 128)      65536     ['conv3_block2_preact_relu[0][\n",
            " D)                                                                 0]']                          \n",
            "                                                                                                  \n",
            " conv3_block2_1_bn (BatchNo  (None, None, None, 128)      512       ['conv3_block2_1_conv[0][0]'] \n",
            " rmalization)                                                                                     \n",
            "                                                                                                  \n",
            " conv3_block2_1_relu (Activ  (None, None, None, 128)      0         ['conv3_block2_1_bn[0][0]']   \n",
            " ation)                                                                                           \n",
            "                                                                                                  \n",
            " conv3_block2_2_pad (ZeroPa  (None, None, None, 128)      0         ['conv3_block2_1_relu[0][0]'] \n",
            " dding2D)                                                                                         \n",
            "                                                                                                  \n",
            " conv3_block2_2_conv (Conv2  (None, None, None, 128)      147456    ['conv3_block2_2_pad[0][0]']  \n",
            " D)                                                                                               \n",
            "                                                                                                  \n",
            " conv3_block2_2_bn (BatchNo  (None, None, None, 128)      512       ['conv3_block2_2_conv[0][0]'] \n",
            " rmalization)                                                                                     \n",
            "                                                                                                  \n",
            " conv3_block2_2_relu (Activ  (None, None, None, 128)      0         ['conv3_block2_2_bn[0][0]']   \n",
            " ation)                                                                                           \n",
            "                                                                                                  \n",
            " conv3_block2_3_conv (Conv2  (None, None, None, 512)      66048     ['conv3_block2_2_relu[0][0]'] \n",
            " D)                                                                                               \n",
            "                                                                                                  \n",
            " conv3_block2_out (Add)      (None, None, None, 512)      0         ['conv3_block1_out[0][0]',    \n",
            "                                                                     'conv3_block2_3_conv[0][0]'] \n",
            "                                                                                                  \n",
            " conv3_block3_preact_bn (Ba  (None, None, None, 512)      2048      ['conv3_block2_out[0][0]']    \n",
            " tchNormalization)                                                                                \n",
            "                                                                                                  \n",
            " conv3_block3_preact_relu (  (None, None, None, 512)      0         ['conv3_block3_preact_bn[0][0]\n",
            " Activation)                                                        ']                            \n",
            "                                                                                                  \n",
            " conv3_block3_1_conv (Conv2  (None, None, None, 128)      65536     ['conv3_block3_preact_relu[0][\n",
            " D)                                                                 0]']                          \n",
            "                                                                                                  \n",
            " conv3_block3_1_bn (BatchNo  (None, None, None, 128)      512       ['conv3_block3_1_conv[0][0]'] \n",
            " rmalization)                                                                                     \n",
            "                                                                                                  \n",
            " conv3_block3_1_relu (Activ  (None, None, None, 128)      0         ['conv3_block3_1_bn[0][0]']   \n",
            " ation)                                                                                           \n",
            "                                                                                                  \n",
            " conv3_block3_2_pad (ZeroPa  (None, None, None, 128)      0         ['conv3_block3_1_relu[0][0]'] \n",
            " dding2D)                                                                                         \n",
            "                                                                                                  \n",
            " conv3_block3_2_conv (Conv2  (None, None, None, 128)      147456    ['conv3_block3_2_pad[0][0]']  \n",
            " D)                                                                                               \n",
            "                                                                                                  \n",
            " conv3_block3_2_bn (BatchNo  (None, None, None, 128)      512       ['conv3_block3_2_conv[0][0]'] \n",
            " rmalization)                                                                                     \n",
            "                                                                                                  \n",
            " conv3_block3_2_relu (Activ  (None, None, None, 128)      0         ['conv3_block3_2_bn[0][0]']   \n",
            " ation)                                                                                           \n",
            "                                                                                                  \n",
            " conv3_block3_3_conv (Conv2  (None, None, None, 512)      66048     ['conv3_block3_2_relu[0][0]'] \n",
            " D)                                                                                               \n",
            "                                                                                                  \n",
            " conv3_block3_out (Add)      (None, None, None, 512)      0         ['conv3_block2_out[0][0]',    \n",
            "                                                                     'conv3_block3_3_conv[0][0]'] \n",
            "                                                                                                  \n",
            " conv3_block4_preact_bn (Ba  (None, None, None, 512)      2048      ['conv3_block3_out[0][0]']    \n",
            " tchNormalization)                                                                                \n",
            "                                                                                                  \n",
            " conv3_block4_preact_relu (  (None, None, None, 512)      0         ['conv3_block4_preact_bn[0][0]\n",
            " Activation)                                                        ']                            \n",
            "                                                                                                  \n",
            " conv3_block4_1_conv (Conv2  (None, None, None, 128)      65536     ['conv3_block4_preact_relu[0][\n",
            " D)                                                                 0]']                          \n",
            "                                                                                                  \n",
            " conv3_block4_1_bn (BatchNo  (None, None, None, 128)      512       ['conv3_block4_1_conv[0][0]'] \n",
            " rmalization)                                                                                     \n",
            "                                                                                                  \n",
            " conv3_block4_1_relu (Activ  (None, None, None, 128)      0         ['conv3_block4_1_bn[0][0]']   \n",
            " ation)                                                                                           \n",
            "                                                                                                  \n",
            " conv3_block4_2_pad (ZeroPa  (None, None, None, 128)      0         ['conv3_block4_1_relu[0][0]'] \n",
            " dding2D)                                                                                         \n",
            "                                                                                                  \n",
            " conv3_block4_2_conv (Conv2  (None, None, None, 128)      147456    ['conv3_block4_2_pad[0][0]']  \n",
            " D)                                                                                               \n",
            "                                                                                                  \n",
            " conv3_block4_2_bn (BatchNo  (None, None, None, 128)      512       ['conv3_block4_2_conv[0][0]'] \n",
            " rmalization)                                                                                     \n",
            "                                                                                                  \n",
            " conv3_block4_2_relu (Activ  (None, None, None, 128)      0         ['conv3_block4_2_bn[0][0]']   \n",
            " ation)                                                                                           \n",
            "                                                                                                  \n",
            " max_pooling2d_4 (MaxPoolin  (None, None, None, 512)      0         ['conv3_block3_out[0][0]']    \n",
            " g2D)                                                                                             \n",
            "                                                                                                  \n",
            " conv3_block4_3_conv (Conv2  (None, None, None, 512)      66048     ['conv3_block4_2_relu[0][0]'] \n",
            " D)                                                                                               \n",
            "                                                                                                  \n",
            " conv3_block4_out (Add)      (None, None, None, 512)      0         ['max_pooling2d_4[0][0]',     \n",
            "                                                                     'conv3_block4_3_conv[0][0]'] \n",
            "                                                                                                  \n",
            " conv4_block1_preact_bn (Ba  (None, None, None, 512)      2048      ['conv3_block4_out[0][0]']    \n",
            " tchNormalization)                                                                                \n",
            "                                                                                                  \n",
            " conv4_block1_preact_relu (  (None, None, None, 512)      0         ['conv4_block1_preact_bn[0][0]\n",
            " Activation)                                                        ']                            \n",
            "                                                                                                  \n",
            " conv4_block1_1_conv (Conv2  (None, None, None, 256)      131072    ['conv4_block1_preact_relu[0][\n",
            " D)                                                                 0]']                          \n",
            "                                                                                                  \n",
            " conv4_block1_1_bn (BatchNo  (None, None, None, 256)      1024      ['conv4_block1_1_conv[0][0]'] \n",
            " rmalization)                                                                                     \n",
            "                                                                                                  \n",
            " conv4_block1_1_relu (Activ  (None, None, None, 256)      0         ['conv4_block1_1_bn[0][0]']   \n",
            " ation)                                                                                           \n",
            "                                                                                                  \n",
            " conv4_block1_2_pad (ZeroPa  (None, None, None, 256)      0         ['conv4_block1_1_relu[0][0]'] \n",
            " dding2D)                                                                                         \n",
            "                                                                                                  \n",
            " conv4_block1_2_conv (Conv2  (None, None, None, 256)      589824    ['conv4_block1_2_pad[0][0]']  \n",
            " D)                                                                                               \n",
            "                                                                                                  \n",
            " conv4_block1_2_bn (BatchNo  (None, None, None, 256)      1024      ['conv4_block1_2_conv[0][0]'] \n",
            " rmalization)                                                                                     \n",
            "                                                                                                  \n",
            " conv4_block1_2_relu (Activ  (None, None, None, 256)      0         ['conv4_block1_2_bn[0][0]']   \n",
            " ation)                                                                                           \n",
            "                                                                                                  \n",
            " conv4_block1_0_conv (Conv2  (None, None, None, 1024)     525312    ['conv4_block1_preact_relu[0][\n",
            " D)                                                                 0]']                          \n",
            "                                                                                                  \n",
            " conv4_block1_3_conv (Conv2  (None, None, None, 1024)     263168    ['conv4_block1_2_relu[0][0]'] \n",
            " D)                                                                                               \n",
            "                                                                                                  \n",
            " conv4_block1_out (Add)      (None, None, None, 1024)     0         ['conv4_block1_0_conv[0][0]', \n",
            "                                                                     'conv4_block1_3_conv[0][0]'] \n",
            "                                                                                                  \n",
            " conv4_block2_preact_bn (Ba  (None, None, None, 1024)     4096      ['conv4_block1_out[0][0]']    \n",
            " tchNormalization)                                                                                \n",
            "                                                                                                  \n",
            " conv4_block2_preact_relu (  (None, None, None, 1024)     0         ['conv4_block2_preact_bn[0][0]\n",
            " Activation)                                                        ']                            \n",
            "                                                                                                  \n",
            " conv4_block2_1_conv (Conv2  (None, None, None, 256)      262144    ['conv4_block2_preact_relu[0][\n",
            " D)                                                                 0]']                          \n",
            "                                                                                                  \n",
            " conv4_block2_1_bn (BatchNo  (None, None, None, 256)      1024      ['conv4_block2_1_conv[0][0]'] \n",
            " rmalization)                                                                                     \n",
            "                                                                                                  \n",
            " conv4_block2_1_relu (Activ  (None, None, None, 256)      0         ['conv4_block2_1_bn[0][0]']   \n",
            " ation)                                                                                           \n",
            "                                                                                                  \n",
            " conv4_block2_2_pad (ZeroPa  (None, None, None, 256)      0         ['conv4_block2_1_relu[0][0]'] \n",
            " dding2D)                                                                                         \n",
            "                                                                                                  \n",
            " conv4_block2_2_conv (Conv2  (None, None, None, 256)      589824    ['conv4_block2_2_pad[0][0]']  \n",
            " D)                                                                                               \n",
            "                                                                                                  \n",
            " conv4_block2_2_bn (BatchNo  (None, None, None, 256)      1024      ['conv4_block2_2_conv[0][0]'] \n",
            " rmalization)                                                                                     \n",
            "                                                                                                  \n",
            " conv4_block2_2_relu (Activ  (None, None, None, 256)      0         ['conv4_block2_2_bn[0][0]']   \n",
            " ation)                                                                                           \n",
            "                                                                                                  \n",
            " conv4_block2_3_conv (Conv2  (None, None, None, 1024)     263168    ['conv4_block2_2_relu[0][0]'] \n",
            " D)                                                                                               \n",
            "                                                                                                  \n",
            " conv4_block2_out (Add)      (None, None, None, 1024)     0         ['conv4_block1_out[0][0]',    \n",
            "                                                                     'conv4_block2_3_conv[0][0]'] \n",
            "                                                                                                  \n",
            " conv4_block3_preact_bn (Ba  (None, None, None, 1024)     4096      ['conv4_block2_out[0][0]']    \n",
            " tchNormalization)                                                                                \n",
            "                                                                                                  \n",
            " conv4_block3_preact_relu (  (None, None, None, 1024)     0         ['conv4_block3_preact_bn[0][0]\n",
            " Activation)                                                        ']                            \n",
            "                                                                                                  \n",
            " conv4_block3_1_conv (Conv2  (None, None, None, 256)      262144    ['conv4_block3_preact_relu[0][\n",
            " D)                                                                 0]']                          \n",
            "                                                                                                  \n",
            " conv4_block3_1_bn (BatchNo  (None, None, None, 256)      1024      ['conv4_block3_1_conv[0][0]'] \n",
            " rmalization)                                                                                     \n",
            "                                                                                                  \n",
            " conv4_block3_1_relu (Activ  (None, None, None, 256)      0         ['conv4_block3_1_bn[0][0]']   \n",
            " ation)                                                                                           \n",
            "                                                                                                  \n",
            " conv4_block3_2_pad (ZeroPa  (None, None, None, 256)      0         ['conv4_block3_1_relu[0][0]'] \n",
            " dding2D)                                                                                         \n",
            "                                                                                                  \n",
            " conv4_block3_2_conv (Conv2  (None, None, None, 256)      589824    ['conv4_block3_2_pad[0][0]']  \n",
            " D)                                                                                               \n",
            "                                                                                                  \n",
            " conv4_block3_2_bn (BatchNo  (None, None, None, 256)      1024      ['conv4_block3_2_conv[0][0]'] \n",
            " rmalization)                                                                                     \n",
            "                                                                                                  \n",
            " conv4_block3_2_relu (Activ  (None, None, None, 256)      0         ['conv4_block3_2_bn[0][0]']   \n",
            " ation)                                                                                           \n",
            "                                                                                                  \n",
            " conv4_block3_3_conv (Conv2  (None, None, None, 1024)     263168    ['conv4_block3_2_relu[0][0]'] \n",
            " D)                                                                                               \n",
            "                                                                                                  \n",
            " conv4_block3_out (Add)      (None, None, None, 1024)     0         ['conv4_block2_out[0][0]',    \n",
            "                                                                     'conv4_block3_3_conv[0][0]'] \n",
            "                                                                                                  \n",
            " conv4_block4_preact_bn (Ba  (None, None, None, 1024)     4096      ['conv4_block3_out[0][0]']    \n",
            " tchNormalization)                                                                                \n",
            "                                                                                                  \n",
            " conv4_block4_preact_relu (  (None, None, None, 1024)     0         ['conv4_block4_preact_bn[0][0]\n",
            " Activation)                                                        ']                            \n",
            "                                                                                                  \n",
            " conv4_block4_1_conv (Conv2  (None, None, None, 256)      262144    ['conv4_block4_preact_relu[0][\n",
            " D)                                                                 0]']                          \n",
            "                                                                                                  \n",
            " conv4_block4_1_bn (BatchNo  (None, None, None, 256)      1024      ['conv4_block4_1_conv[0][0]'] \n",
            " rmalization)                                                                                     \n",
            "                                                                                                  \n",
            " conv4_block4_1_relu (Activ  (None, None, None, 256)      0         ['conv4_block4_1_bn[0][0]']   \n",
            " ation)                                                                                           \n",
            "                                                                                                  \n",
            " conv4_block4_2_pad (ZeroPa  (None, None, None, 256)      0         ['conv4_block4_1_relu[0][0]'] \n",
            " dding2D)                                                                                         \n",
            "                                                                                                  \n",
            " conv4_block4_2_conv (Conv2  (None, None, None, 256)      589824    ['conv4_block4_2_pad[0][0]']  \n",
            " D)                                                                                               \n",
            "                                                                                                  \n",
            " conv4_block4_2_bn (BatchNo  (None, None, None, 256)      1024      ['conv4_block4_2_conv[0][0]'] \n",
            " rmalization)                                                                                     \n",
            "                                                                                                  \n",
            " conv4_block4_2_relu (Activ  (None, None, None, 256)      0         ['conv4_block4_2_bn[0][0]']   \n",
            " ation)                                                                                           \n",
            "                                                                                                  \n",
            " conv4_block4_3_conv (Conv2  (None, None, None, 1024)     263168    ['conv4_block4_2_relu[0][0]'] \n",
            " D)                                                                                               \n",
            "                                                                                                  \n",
            " conv4_block4_out (Add)      (None, None, None, 1024)     0         ['conv4_block3_out[0][0]',    \n",
            "                                                                     'conv4_block4_3_conv[0][0]'] \n",
            "                                                                                                  \n",
            " conv4_block5_preact_bn (Ba  (None, None, None, 1024)     4096      ['conv4_block4_out[0][0]']    \n",
            " tchNormalization)                                                                                \n",
            "                                                                                                  \n",
            " conv4_block5_preact_relu (  (None, None, None, 1024)     0         ['conv4_block5_preact_bn[0][0]\n",
            " Activation)                                                        ']                            \n",
            "                                                                                                  \n",
            " conv4_block5_1_conv (Conv2  (None, None, None, 256)      262144    ['conv4_block5_preact_relu[0][\n",
            " D)                                                                 0]']                          \n",
            "                                                                                                  \n",
            " conv4_block5_1_bn (BatchNo  (None, None, None, 256)      1024      ['conv4_block5_1_conv[0][0]'] \n",
            " rmalization)                                                                                     \n",
            "                                                                                                  \n",
            " conv4_block5_1_relu (Activ  (None, None, None, 256)      0         ['conv4_block5_1_bn[0][0]']   \n",
            " ation)                                                                                           \n",
            "                                                                                                  \n",
            " conv4_block5_2_pad (ZeroPa  (None, None, None, 256)      0         ['conv4_block5_1_relu[0][0]'] \n",
            " dding2D)                                                                                         \n",
            "                                                                                                  \n",
            " conv4_block5_2_conv (Conv2  (None, None, None, 256)      589824    ['conv4_block5_2_pad[0][0]']  \n",
            " D)                                                                                               \n",
            "                                                                                                  \n",
            " conv4_block5_2_bn (BatchNo  (None, None, None, 256)      1024      ['conv4_block5_2_conv[0][0]'] \n",
            " rmalization)                                                                                     \n",
            "                                                                                                  \n",
            " conv4_block5_2_relu (Activ  (None, None, None, 256)      0         ['conv4_block5_2_bn[0][0]']   \n",
            " ation)                                                                                           \n",
            "                                                                                                  \n",
            " conv4_block5_3_conv (Conv2  (None, None, None, 1024)     263168    ['conv4_block5_2_relu[0][0]'] \n",
            " D)                                                                                               \n",
            "                                                                                                  \n",
            " conv4_block5_out (Add)      (None, None, None, 1024)     0         ['conv4_block4_out[0][0]',    \n",
            "                                                                     'conv4_block5_3_conv[0][0]'] \n",
            "                                                                                                  \n",
            " conv4_block6_preact_bn (Ba  (None, None, None, 1024)     4096      ['conv4_block5_out[0][0]']    \n",
            " tchNormalization)                                                                                \n",
            "                                                                                                  \n",
            " conv4_block6_preact_relu (  (None, None, None, 1024)     0         ['conv4_block6_preact_bn[0][0]\n",
            " Activation)                                                        ']                            \n",
            "                                                                                                  \n",
            " conv4_block6_1_conv (Conv2  (None, None, None, 256)      262144    ['conv4_block6_preact_relu[0][\n",
            " D)                                                                 0]']                          \n",
            "                                                                                                  \n",
            " conv4_block6_1_bn (BatchNo  (None, None, None, 256)      1024      ['conv4_block6_1_conv[0][0]'] \n",
            " rmalization)                                                                                     \n",
            "                                                                                                  \n",
            " conv4_block6_1_relu (Activ  (None, None, None, 256)      0         ['conv4_block6_1_bn[0][0]']   \n",
            " ation)                                                                                           \n",
            "                                                                                                  \n",
            " conv4_block6_2_pad (ZeroPa  (None, None, None, 256)      0         ['conv4_block6_1_relu[0][0]'] \n",
            " dding2D)                                                                                         \n",
            "                                                                                                  \n",
            " conv4_block6_2_conv (Conv2  (None, None, None, 256)      589824    ['conv4_block6_2_pad[0][0]']  \n",
            " D)                                                                                               \n",
            "                                                                                                  \n",
            " conv4_block6_2_bn (BatchNo  (None, None, None, 256)      1024      ['conv4_block6_2_conv[0][0]'] \n",
            " rmalization)                                                                                     \n",
            "                                                                                                  \n",
            " conv4_block6_2_relu (Activ  (None, None, None, 256)      0         ['conv4_block6_2_bn[0][0]']   \n",
            " ation)                                                                                           \n",
            "                                                                                                  \n",
            " max_pooling2d_5 (MaxPoolin  (None, None, None, 1024)     0         ['conv4_block5_out[0][0]']    \n",
            " g2D)                                                                                             \n",
            "                                                                                                  \n",
            " conv4_block6_3_conv (Conv2  (None, None, None, 1024)     263168    ['conv4_block6_2_relu[0][0]'] \n",
            " D)                                                                                               \n",
            "                                                                                                  \n",
            " conv4_block6_out (Add)      (None, None, None, 1024)     0         ['max_pooling2d_5[0][0]',     \n",
            "                                                                     'conv4_block6_3_conv[0][0]'] \n",
            "                                                                                                  \n",
            " conv5_block1_preact_bn (Ba  (None, None, None, 1024)     4096      ['conv4_block6_out[0][0]']    \n",
            " tchNormalization)                                                                                \n",
            "                                                                                                  \n",
            " conv5_block1_preact_relu (  (None, None, None, 1024)     0         ['conv5_block1_preact_bn[0][0]\n",
            " Activation)                                                        ']                            \n",
            "                                                                                                  \n",
            " conv5_block1_1_conv (Conv2  (None, None, None, 512)      524288    ['conv5_block1_preact_relu[0][\n",
            " D)                                                                 0]']                          \n",
            "                                                                                                  \n",
            " conv5_block1_1_bn (BatchNo  (None, None, None, 512)      2048      ['conv5_block1_1_conv[0][0]'] \n",
            " rmalization)                                                                                     \n",
            "                                                                                                  \n",
            " conv5_block1_1_relu (Activ  (None, None, None, 512)      0         ['conv5_block1_1_bn[0][0]']   \n",
            " ation)                                                                                           \n",
            "                                                                                                  \n",
            " conv5_block1_2_pad (ZeroPa  (None, None, None, 512)      0         ['conv5_block1_1_relu[0][0]'] \n",
            " dding2D)                                                                                         \n",
            "                                                                                                  \n",
            " conv5_block1_2_conv (Conv2  (None, None, None, 512)      2359296   ['conv5_block1_2_pad[0][0]']  \n",
            " D)                                                                                               \n",
            "                                                                                                  \n",
            " conv5_block1_2_bn (BatchNo  (None, None, None, 512)      2048      ['conv5_block1_2_conv[0][0]'] \n",
            " rmalization)                                                                                     \n",
            "                                                                                                  \n",
            " conv5_block1_2_relu (Activ  (None, None, None, 512)      0         ['conv5_block1_2_bn[0][0]']   \n",
            " ation)                                                                                           \n",
            "                                                                                                  \n",
            " conv5_block1_0_conv (Conv2  (None, None, None, 2048)     2099200   ['conv5_block1_preact_relu[0][\n",
            " D)                                                                 0]']                          \n",
            "                                                                                                  \n",
            " conv5_block1_3_conv (Conv2  (None, None, None, 2048)     1050624   ['conv5_block1_2_relu[0][0]'] \n",
            " D)                                                                                               \n",
            "                                                                                                  \n",
            " conv5_block1_out (Add)      (None, None, None, 2048)     0         ['conv5_block1_0_conv[0][0]', \n",
            "                                                                     'conv5_block1_3_conv[0][0]'] \n",
            "                                                                                                  \n",
            " conv5_block2_preact_bn (Ba  (None, None, None, 2048)     8192      ['conv5_block1_out[0][0]']    \n",
            " tchNormalization)                                                                                \n",
            "                                                                                                  \n",
            " conv5_block2_preact_relu (  (None, None, None, 2048)     0         ['conv5_block2_preact_bn[0][0]\n",
            " Activation)                                                        ']                            \n",
            "                                                                                                  \n",
            " conv5_block2_1_conv (Conv2  (None, None, None, 512)      1048576   ['conv5_block2_preact_relu[0][\n",
            " D)                                                                 0]']                          \n",
            "                                                                                                  \n",
            " conv5_block2_1_bn (BatchNo  (None, None, None, 512)      2048      ['conv5_block2_1_conv[0][0]'] \n",
            " rmalization)                                                                                     \n",
            "                                                                                                  \n",
            " conv5_block2_1_relu (Activ  (None, None, None, 512)      0         ['conv5_block2_1_bn[0][0]']   \n",
            " ation)                                                                                           \n",
            "                                                                                                  \n",
            " conv5_block2_2_pad (ZeroPa  (None, None, None, 512)      0         ['conv5_block2_1_relu[0][0]'] \n",
            " dding2D)                                                                                         \n",
            "                                                                                                  \n",
            " conv5_block2_2_conv (Conv2  (None, None, None, 512)      2359296   ['conv5_block2_2_pad[0][0]']  \n",
            " D)                                                                                               \n",
            "                                                                                                  \n",
            " conv5_block2_2_bn (BatchNo  (None, None, None, 512)      2048      ['conv5_block2_2_conv[0][0]'] \n",
            " rmalization)                                                                                     \n",
            "                                                                                                  \n",
            " conv5_block2_2_relu (Activ  (None, None, None, 512)      0         ['conv5_block2_2_bn[0][0]']   \n",
            " ation)                                                                                           \n",
            "                                                                                                  \n",
            " conv5_block2_3_conv (Conv2  (None, None, None, 2048)     1050624   ['conv5_block2_2_relu[0][0]'] \n",
            " D)                                                                                               \n",
            "                                                                                                  \n",
            " conv5_block2_out (Add)      (None, None, None, 2048)     0         ['conv5_block1_out[0][0]',    \n",
            "                                                                     'conv5_block2_3_conv[0][0]'] \n",
            "                                                                                                  \n",
            " conv5_block3_preact_bn (Ba  (None, None, None, 2048)     8192      ['conv5_block2_out[0][0]']    \n",
            " tchNormalization)                                                                                \n",
            "                                                                                                  \n",
            " conv5_block3_preact_relu (  (None, None, None, 2048)     0         ['conv5_block3_preact_bn[0][0]\n",
            " Activation)                                                        ']                            \n",
            "                                                                                                  \n",
            " conv5_block3_1_conv (Conv2  (None, None, None, 512)      1048576   ['conv5_block3_preact_relu[0][\n",
            " D)                                                                 0]']                          \n",
            "                                                                                                  \n",
            " conv5_block3_1_bn (BatchNo  (None, None, None, 512)      2048      ['conv5_block3_1_conv[0][0]'] \n",
            " rmalization)                                                                                     \n",
            "                                                                                                  \n",
            " conv5_block3_1_relu (Activ  (None, None, None, 512)      0         ['conv5_block3_1_bn[0][0]']   \n",
            " ation)                                                                                           \n",
            "                                                                                                  \n",
            " conv5_block3_2_pad (ZeroPa  (None, None, None, 512)      0         ['conv5_block3_1_relu[0][0]'] \n",
            " dding2D)                                                                                         \n",
            "                                                                                                  \n",
            " conv5_block3_2_conv (Conv2  (None, None, None, 512)      2359296   ['conv5_block3_2_pad[0][0]']  \n",
            " D)                                                                                               \n",
            "                                                                                                  \n",
            " conv5_block3_2_bn (BatchNo  (None, None, None, 512)      2048      ['conv5_block3_2_conv[0][0]'] \n",
            " rmalization)                                                                                     \n",
            "                                                                                                  \n",
            " conv5_block3_2_relu (Activ  (None, None, None, 512)      0         ['conv5_block3_2_bn[0][0]']   \n",
            " ation)                                                                                           \n",
            "                                                                                                  \n",
            " conv5_block3_3_conv (Conv2  (None, None, None, 2048)     1050624   ['conv5_block3_2_relu[0][0]'] \n",
            " D)                                                                                               \n",
            "                                                                                                  \n",
            " conv5_block3_out (Add)      (None, None, None, 2048)     0         ['conv5_block2_out[0][0]',    \n",
            "                                                                     'conv5_block3_3_conv[0][0]'] \n",
            "                                                                                                  \n",
            " post_bn (BatchNormalizatio  (None, None, None, 2048)     8192      ['conv5_block3_out[0][0]']    \n",
            " n)                                                                                               \n",
            "                                                                                                  \n",
            " post_relu (Activation)      (None, None, None, 2048)     0         ['post_bn[0][0]']             \n",
            "                                                                                                  \n",
            " global_average_pooling2d (  (None, 2048)                 0         ['post_relu[0][0]']           \n",
            " GlobalAveragePooling2D)                                                                          \n",
            "                                                                                                  \n",
            " batch_normalization (Batch  (None, 2048)                 8192      ['global_average_pooling2d[0][\n",
            " Normalization)                                                     0]']                          \n",
            "                                                                                                  \n",
            " dropout (Dropout)           (None, 2048)                 0         ['batch_normalization[0][0]'] \n",
            "                                                                                                  \n",
            " dense (Dense)               (None, 5)                    10245     ['dropout[0][0]']             \n",
            "                                                                                                  \n",
            "==================================================================================================\n",
            "Total params: 23583237 (89.96 MB)\n",
            "Trainable params: 14341 (56.02 KB)\n",
            "Non-trainable params: 23568896 (89.91 MB)\n",
            "__________________________________________________________________________________________________\n"
          ]
        }
      ]
    },
    {
      "cell_type": "markdown",
      "source": [
        "## Fine Tuning the model\n",
        "In this Fine Tuning experiment, we freeze the initial 25% of the Feature Extractor's layers so that they are not updated during backpropagation"
      ],
      "metadata": {
        "id": "agfZwc5v8cJi"
      }
    },
    {
      "cell_type": "code",
      "source": [
        "# NOTE: Last 4 layers of the model belong to classifier\n",
        "train_threshold = int(0.25*(len(model1_FT.layers)-4))\n",
        "\n",
        "for layer in model1_FT.layers[:train_threshold]:\n",
        "    layer.trainable = False\n",
        "\n",
        "for layer in model1_FT.layers[train_threshold:]:\n",
        "    layer.trainable = True"
      ],
      "metadata": {
        "id": "o5BXsMgVg6lB"
      },
      "execution_count": null,
      "outputs": []
    },
    {
      "cell_type": "markdown",
      "source": [
        "## Compiling and training the model"
      ],
      "metadata": {
        "id": "4gpoQyzhOqXw"
      }
    },
    {
      "cell_type": "code",
      "source": [
        "model1_FT.compile(loss='sparse_categorical_crossentropy',\n",
        "                 optimizer='adam',\n",
        "                 metrics=['accuracy'])\n",
        "\n",
        "callbacks_FT = [keras.callbacks.ModelCheckpoint(\"bestFT.h5\",\n",
        "                                                monitor='val_accuracy',\n",
        "                                                save_weights_only=True,\n",
        "                                                save_best_only=True)]\n",
        "\n",
        "history_FT = model1_FT.fit(x = X_train, y = y_train, epochs=10,\n",
        "                          validation_split=0.1, batch_size=16, callbacks=callbacks_FT)"
      ],
      "metadata": {
        "colab": {
          "base_uri": "https://localhost:8080/"
        },
        "id": "9EczMcDdOtV1",
        "outputId": "f5667d26-ec02-415c-f56e-e5d0d6f56c3f"
      },
      "execution_count": null,
      "outputs": [
        {
          "output_type": "stream",
          "name": "stdout",
          "text": [
            "Epoch 1/10\n",
            "35/35 [==============================] - 52s 291ms/step - loss: 1.1400 - accuracy: 0.7216 - val_loss: 391.8073 - val_accuracy: 0.0820\n",
            "Epoch 2/10\n",
            "35/35 [==============================] - 5s 144ms/step - loss: 0.6702 - accuracy: 0.7857 - val_loss: 8.2005 - val_accuracy: 0.5738\n",
            "Epoch 3/10\n",
            "35/35 [==============================] - 5s 142ms/step - loss: 0.5890 - accuracy: 0.8022 - val_loss: 0.8569 - val_accuracy: 0.7049\n",
            "Epoch 4/10\n",
            "35/35 [==============================] - 5s 137ms/step - loss: 0.4317 - accuracy: 0.8425 - val_loss: 0.5722 - val_accuracy: 0.7705\n",
            "Epoch 5/10\n",
            "35/35 [==============================] - 5s 129ms/step - loss: 0.3564 - accuracy: 0.8791 - val_loss: 1.0190 - val_accuracy: 0.6557\n",
            "Epoch 6/10\n",
            "35/35 [==============================] - 5s 135ms/step - loss: 0.4169 - accuracy: 0.8535 - val_loss: 10.4274 - val_accuracy: 0.3934\n",
            "Epoch 7/10\n",
            "35/35 [==============================] - 4s 126ms/step - loss: 0.4935 - accuracy: 0.8425 - val_loss: 7.4727 - val_accuracy: 0.6721\n",
            "Epoch 8/10\n",
            "35/35 [==============================] - 5s 141ms/step - loss: 0.3724 - accuracy: 0.8608 - val_loss: 0.6474 - val_accuracy: 0.8689\n",
            "Epoch 9/10\n",
            "35/35 [==============================] - 4s 128ms/step - loss: 0.3754 - accuracy: 0.8773 - val_loss: 281.2945 - val_accuracy: 0.5574\n",
            "Epoch 10/10\n",
            "35/35 [==============================] - 5s 131ms/step - loss: 0.7881 - accuracy: 0.7344 - val_loss: 862.6360 - val_accuracy: 0.5574\n"
          ]
        }
      ]
    },
    {
      "cell_type": "markdown",
      "source": [
        "## Visualising the model's training accuracy"
      ],
      "metadata": {
        "id": "utrzJ44tSk9s"
      }
    },
    {
      "cell_type": "code",
      "source": [
        "progress = {k:v for k,v in history_FT.history.items() if k in ['accuracy', 'val_accuracy']}\n",
        "\n",
        "pd.DataFrame(progress).plot()\n",
        "plt.xlabel(\"epochs\")\n",
        "plt.ylabel(\"accuracy\")\n",
        "plt.grid(True)\n",
        "plt.show()"
      ],
      "metadata": {
        "colab": {
          "base_uri": "https://localhost:8080/",
          "height": 449
        },
        "id": "9qZ9d-aTSkjx",
        "outputId": "b168bcbd-b4a0-451b-ca42-43d8a42cb658"
      },
      "execution_count": null,
      "outputs": [
        {
          "output_type": "display_data",
          "data": {
            "text/plain": [
              "<Figure size 640x480 with 1 Axes>"
            ],
            "image/png": "[encoded data removed]"
          },
          "metadata": {}
        }
      ]
    },
    {
      "cell_type": "markdown",
      "source": [
        "## Evaluating the model"
      ],
      "metadata": {
        "id": "AFaRUAnUTqwl"
      }
    },
    {
      "cell_type": "code",
      "source": [
        "# Loading the model's best weights during training\n",
        "model1_FT.load_weights(\"bestFT.h5\")\n",
        "\n",
        "# Test loss and test accuracy\n",
        "testLoss_FT, testAccuracy_FT = model1_FT.evaluate(x = X_test, y = y_test, batch_size=16)\n",
        "print(\"Test-loss: %f, Test-accuracy: %f\" % (testLoss_FT, testAccuracy_FT))"
      ],
      "metadata": {
        "colab": {
          "base_uri": "https://localhost:8080/"
        },
        "id": "eC3hCfyKTFHk",
        "outputId": "136237c7-20ab-4f24-ce09-23fd074879b2"
      },
      "execution_count": null,
      "outputs": [
        {
          "output_type": "stream",
          "name": "stdout",
          "text": [
            "13/13 [==============================] - 3s 214ms/step - loss: 0.6557 - accuracy: 0.7931\n",
            "Test-loss: 0.655687, Test-accuracy: 0.793103\n"
          ]
        }
      ]
    },
    {
      "cell_type": "code",
      "source": [
        "# Making predictions on the test set\n",
        "\n",
        "y_proba = model1_FT.predict(X_test)\n",
        "y_pred = np.argmax(y_proba, axis=-1)\n",
        "print(y_pred)"
      ],
      "metadata": {
        "colab": {
          "base_uri": "https://localhost:8080/"
        },
        "id": "cmnB8f9VgewS",
        "outputId": "2a00f430-4f96-4c64-c42b-b78adfcdc5dd"
      },
      "execution_count": null,
      "outputs": [
        {
          "output_type": "stream",
          "name": "stdout",
          "text": [
            "7/7 [==============================] - 4s 76ms/step\n",
            "[1 0 4 4 0 0 0 0 4 4 0 0 0 0 0 0 4 0 0 1 0 4 0 0 0 4 0 0 0 0 0 0 4 0 4 0 0\n",
            " 4 4 4 0 0 1 0 1 0 1 0 0 0 4 0 4 0 0 0 4 0 4 0 0 0 0 0 0 4 4 4 0 4 0 0 0 4\n",
            " 0 0 0 0 0 0 4 4 4 0 0 4 4 4 4 0 4 0 1 4 4 4 4 0 0 4 0 0 0 4 0 0 4 0 0 0 4\n",
            " 0 0 0 4 1 0 1 4 0 1 0 4 4 0 0 0 4 0 0 4 0 4 0 0 4 0 0 4 4 4 4 4 0 4 0 4 4\n",
            " 0 0 4 0 4 4 0 1 4 0 1 0 4 4 0 4 0 4 0 4 0 4 0 1 4 4 0 4 4 4 0 0 1 0 0 4 4\n",
            " 4 4 0 4 0 0 4 0 4 4 0 0 0 4 4 0 0 0]\n"
          ]
        }
      ]
    },
    {
      "cell_type": "code",
      "source": [
        "# Confusion Matrix of the model's predictions on the test data\n",
        "\n",
        "from sklearn.metrics import confusion_matrix\n",
        "from sklearn.metrics import ConfusionMatrixDisplay\n",
        "\n",
        "cm = ConfusionMatrixDisplay(confusion_matrix = confusion_matrix(y_true = y_test, y_pred = y_pred))\n",
        "cm.plot()\n",
        "plt.title(\"ResNet50V2_FT\")\n",
        "plt.xlabel('Predicted label')\n",
        "plt.ylabel('True label')\n",
        "\n",
        "plt.tight_layout()\n",
        "plt.savefig(\"ConfMat_ResNet50V2_FT.png\", dpi=300, format='png', pad_inches=0.3)\n",
        "plt.show()\n",
        "\n",
        "print(labels)"
      ],
      "metadata": {
        "colab": {
          "base_uri": "https://localhost:8080/",
          "height": 504
        },
        "id": "fx85mDN0g9K2",
        "outputId": "c2ae2f1d-a620-4057-f0d5-495c20cbc26d"
      },
      "execution_count": null,
      "outputs": [
        {
          "output_type": "display_data",
          "data": {
            "text/plain": [
              "<Figure size 640x480 with 2 Axes>"
            ],
            "image/png": "[encoded data removed]"
          },
          "metadata": {}
        },
        {
          "output_type": "stream",
          "name": "stdout",
          "text": [
            "['Compound Bow' 'Crossbow' 'Kyudo Bow' 'Longbow' 'Traditional Recurve Bow']\n"
          ]
        }
      ]
    },
    {
      "cell_type": "code",
      "source": [
        "# Classification report\n",
        "\n",
        "from sklearn.metrics import classification_report\n",
        "\n",
        "clf_report = classification_report(y_test, y_pred)\n",
        "print(clf_report)"
      ],
      "metadata": {
        "colab": {
          "base_uri": "https://localhost:8080/"
        },
        "id": "m0ODJ9Q6icMi",
        "outputId": "0564089b-2ba8-4d74-8484-e5dd494c34d3"
      },
      "execution_count": null,
      "outputs": [
        {
          "output_type": "stream",
          "name": "stdout",
          "text": [
            "              precision    recall  f1-score   support\n",
            "\n",
            "           0       0.87      0.93      0.90       104\n",
            "           1       0.85      0.44      0.58        25\n",
            "           2       0.00      0.00      0.00         7\n",
            "           3       0.00      0.00      0.00        10\n",
            "           4       0.68      0.93      0.79        57\n",
            "\n",
            "    accuracy                           0.79       203\n",
            "   macro avg       0.48      0.46      0.45       203\n",
            "weighted avg       0.74      0.79      0.75       203\n",
            "\n"
          ]
        },
        {
          "output_type": "stream",
          "name": "stderr",
          "text": [
            "/usr/local/lib/python3.10/dist-packages/sklearn/metrics/_classification.py:1344: UndefinedMetricWarning: Precision and F-score are ill-defined and being set to 0.0 in labels with no predicted samples. Use `zero_division` parameter to control this behavior.\n",
            "  _warn_prf(average, modifier, msg_start, len(result))\n",
            "/usr/local/lib/python3.10/dist-packages/sklearn/metrics/_classification.py:1344: UndefinedMetricWarning: Precision and F-score are ill-defined and being set to 0.0 in labels with no predicted samples. Use `zero_division` parameter to control this behavior.\n",
            "  _warn_prf(average, modifier, msg_start, len(result))\n",
            "/usr/local/lib/python3.10/dist-packages/sklearn/metrics/_classification.py:1344: UndefinedMetricWarning: Precision and F-score are ill-defined and being set to 0.0 in labels with no predicted samples. Use `zero_division` parameter to control this behavior.\n",
            "  _warn_prf(average, modifier, msg_start, len(result))\n"
          ]
        }
      ]
    },
    {
      "cell_type": "markdown",
      "source": [
        "## Save the model"
      ],
      "metadata": {
        "id": "6gTq0v1QwGju"
      }
    },
    {
      "cell_type": "code",
      "source": [
        "# Save the best performing Fine-tuned model\n",
        "model1_FT.save('/content/gdrive/MyDrive/Models/BowImageClassification/ResNet50V2_FineTuning_BestModel.h5')"
      ],
      "metadata": {
        "colab": {
          "base_uri": "https://localhost:8080/"
        },
        "id": "gEy68y_pwKIv",
        "outputId": "6962f333-4d5f-4a1c-816e-4fe65841ab49"
      },
      "execution_count": null,
      "outputs": [
        {
          "output_type": "stream",
          "name": "stderr",
          "text": [
            "/usr/local/lib/python3.10/dist-packages/keras/src/engine/training.py:3103: UserWarning: You are saving your model as an HDF5 file via `model.save()`. This file format is considered legacy. We recommend using instead the native Keras format, e.g. `model.save('my_model.keras')`.\n",
            "  saving_api.save_model(\n"
          ]
        }
      ]
    }
  ]
}